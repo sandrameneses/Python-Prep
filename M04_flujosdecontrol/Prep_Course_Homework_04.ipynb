{
 "cells": [
  {
   "attachments": {},
   "cell_type": "markdown",
   "metadata": {},
   "source": [
    "## Flujos de Control"
   ]
  },
  {
   "attachments": {},
   "cell_type": "markdown",
   "metadata": {},
   "source": [
    "1) Crear una variable que contenga un elemento del conjunto de números enteros y luego imprimir por pantalla si es mayor o menor a cero"
   ]
  },
  {
   "cell_type": "code",
   "execution_count": 2,
   "metadata": {},
   "outputs": [
    {
     "name": "stdout",
     "output_type": "stream",
     "text": [
      "es mayor que cero\n"
     ]
    }
   ],
   "source": [
    "a = 13\n",
    "if (a < 0):\n",
    "    print (\"es menor que cero\")\n",
    "elif (a > 0):\n",
    "    print (\"es mayor que cero\")\n",
    "else:\n",
    "    print (\"es cero\")"
   ]
  },
  {
   "attachments": {},
   "cell_type": "markdown",
   "metadata": {},
   "source": [
    "2) Crear dos variables y un condicional que informe si son del mismo tipo de dato"
   ]
  },
  {
   "cell_type": "code",
   "execution_count": 11,
   "metadata": {},
   "outputs": [
    {
     "name": "stdout",
     "output_type": "stream",
     "text": [
      "son de diferente tipo de dato\n",
      "Las variables 12 y Sandra son de diferente tipo de dato\n"
     ]
    }
   ],
   "source": [
    "b = 12\n",
    "c = \"Sandra\"\n",
    "\n",
    "if (type(b) == type(c)):\n",
    "    print (\"son del mismo tipo de dato\")\n",
    "else:\n",
    "    print (\"son de diferente tipo de dato\")\n",
    "\n",
    "# otra forma con funcion\n",
    "\n",
    "print(f'Las variables {b} y {c} son de diferente tipo de dato')"
   ]
  },
  {
   "attachments": {},
   "cell_type": "markdown",
   "metadata": {},
   "source": [
    "3) Para los valores enteros del 1 al 20, imprimir por pantalla si es par o impar"
   ]
  },
  {
   "cell_type": "code",
   "execution_count": 17,
   "metadata": {},
   "outputs": [
    {
     "name": "stdout",
     "output_type": "stream",
     "text": [
      "el numero 1 es impar\n",
      "el numero 2 es par\n",
      "el numero 3 es impar\n",
      "el numero 4 es par\n",
      "el numero 5 es impar\n",
      "el numero 6 es par\n",
      "el numero 7 es impar\n",
      "el numero 8 es par\n",
      "el numero 9 es impar\n",
      "el numero 10 es par\n",
      "el numero 11 es impar\n",
      "el numero 12 es par\n",
      "el numero 13 es impar\n",
      "el numero 14 es par\n",
      "el numero 15 es impar\n",
      "el numero 16 es par\n",
      "el numero 17 es impar\n",
      "el numero 18 es par\n",
      "el numero 19 es impar\n",
      "el numero 20 es par\n"
     ]
    }
   ],
   "source": [
    "# for\n",
    "\n",
    "for n in range (1,21):\n",
    "    if n % 2 == 0:\n",
    "        print (\"el numero\", str(n), \"es par\")\n",
    "    else:\n",
    "        print (\"el numero\", str(n), \"es impar\")\n"
   ]
  },
  {
   "cell_type": "code",
   "execution_count": 4,
   "metadata": {},
   "outputs": [
    {
     "name": "stdout",
     "output_type": "stream",
     "text": [
      "el numero 1 es impar\n",
      "el numero 2 es par\n",
      "el numero 3 es impar\n",
      "el numero 4 es par\n",
      "el numero 5 es impar\n",
      "el numero 6 es par\n",
      "el numero 7 es impar\n",
      "el numero 8 es par\n",
      "el numero 9 es impar\n",
      "el numero 10 es par\n",
      "el numero 11 es impar\n",
      "el numero 12 es par\n",
      "el numero 13 es impar\n",
      "el numero 14 es par\n",
      "el numero 15 es impar\n",
      "el numero 16 es par\n",
      "el numero 17 es impar\n",
      "el numero 18 es par\n",
      "el numero 19 es impar\n",
      "el numero 20 es par\n"
     ]
    }
   ],
   "source": [
    "# while\n",
    "\n",
    "n = 1\n",
    "\n",
    "while n < 21:\n",
    "    if n % 2 == 0:\n",
    "        print (\"el numero\", str(n), \"es par\")\n",
    "    else:\n",
    "        print (\"el numero\", str(n), \"es impar\")\n",
    "    n += 1"
   ]
  },
  {
   "attachments": {},
   "cell_type": "markdown",
   "metadata": {},
   "source": [
    "4) En un ciclo for mostrar para los valores entre 0 y 5 el resultado de elevarlo a la potencia igual a 3"
   ]
  },
  {
   "cell_type": "code",
   "execution_count": 5,
   "metadata": {},
   "outputs": [
    {
     "name": "stdout",
     "output_type": "stream",
     "text": [
      "valor: 0 elevado a la 3 potencia 0\n",
      "valor: 1 elevado a la 3 potencia 1\n",
      "valor: 2 elevado a la 3 potencia 8\n",
      "valor: 3 elevado a la 3 potencia 27\n",
      "valor: 4 elevado a la 3 potencia 64\n",
      "valor: 5 elevado a la 3 potencia 125\n"
     ]
    }
   ],
   "source": [
    "for i in range (0,6):\n",
    "    print (\"valor:\", str(i), \"elevado a la 3 potencia\", str(i**3))"
   ]
  },
  {
   "attachments": {},
   "cell_type": "markdown",
   "metadata": {},
   "source": [
    "5) Crear una variable que contenga un número entero y realizar un ciclo for la misma cantidad de ciclos"
   ]
  },
  {
   "attachments": {},
   "cell_type": "markdown",
   "metadata": {},
   "source": [
    "ojo no entiendo"
   ]
  },
  {
   "cell_type": "code",
   "execution_count": 12,
   "metadata": {},
   "outputs": [
    {
     "name": "stdout",
     "output_type": "stream",
     "text": [
      "Estamos en el ciclo 0\n",
      "Estamos en el ciclo 1\n",
      "Estamos en el ciclo 2\n",
      "Estamos en el ciclo 3\n",
      "Estamos en el ciclo 4\n"
     ]
    }
   ],
   "source": [
    "m = 4\n",
    "for i in range (0,m+1):\n",
    "    print (f\"Estamos en el ciclo {i}\")"
   ]
  },
  {
   "attachments": {},
   "cell_type": "markdown",
   "metadata": {},
   "source": [
    "6) Utilizar un ciclo while para realizar el factorial de un número guardado en una variable, sólo si la variable contiene un número entero mayor a 0"
   ]
  },
  {
   "attachments": {},
   "cell_type": "markdown",
   "metadata": {},
   "source": [
    "no entendi de esta forma con if y while"
   ]
  },
  {
   "cell_type": "code",
   "execution_count": 8,
   "metadata": {},
   "outputs": [
    {
     "name": "stdout",
     "output_type": "stream",
     "text": [
      "El factorial es 6\n"
     ]
    }
   ],
   "source": [
    "n = 3\n",
    "if (type(n) == int):\n",
    "    if (n > 0):\n",
    "        factorial = n\n",
    "        while (n > 2):\n",
    "            n -= 1\n",
    "            factorial = factorial * n\n",
    "        print('El factorial es', factorial)\n",
    "    else:\n",
    "        print('La variable no es mayor a cero')\n",
    "else:\n",
    "    print('La variable no es un entero')"
   ]
  },
  {
   "cell_type": "code",
   "execution_count": 13,
   "metadata": {},
   "outputs": [
    {
     "name": "stdout",
     "output_type": "stream",
     "text": [
      "6\n"
     ]
    }
   ],
   "source": [
    "# otra forma con if y while\n",
    "\n",
    "n = 3\n",
    "factorial = 1\n",
    "if type (n) == int and n > 0:\n",
    "    while n >= 1:\n",
    "        factorial = n * factorial\n",
    "        n -= 1\n",
    "    print (factorial)"
   ]
  },
  {
   "cell_type": "code",
   "execution_count": 15,
   "metadata": {},
   "outputs": [
    {
     "name": "stdout",
     "output_type": "stream",
     "text": [
      "6\n"
     ]
    }
   ],
   "source": [
    "# resolución con bucle for\n",
    "\n",
    "n = 3\n",
    "factorial = 1\n",
    "for i in range(1, (n + 1)):\n",
    "    factorial = i * factorial\n",
    "print(factorial)"
   ]
  },
  {
   "attachments": {},
   "cell_type": "markdown",
   "metadata": {},
   "source": [
    "7) Crear un ciclo for dentro de un ciclo while"
   ]
  },
  {
   "cell_type": "code",
   "execution_count": 1,
   "metadata": {},
   "outputs": [
    {
     "name": "stdout",
     "output_type": "stream",
     "text": [
      "ciclo while 1\n",
      "ciclo for 1\n",
      "ciclo while 2\n",
      "ciclo for 1\n",
      "ciclo for 2\n",
      "ciclo while 3\n",
      "ciclo for 1\n",
      "ciclo for 2\n",
      "ciclo for 3\n",
      "ciclo while 4\n",
      "ciclo for 1\n",
      "ciclo for 2\n",
      "ciclo for 3\n",
      "ciclo for 4\n"
     ]
    }
   ],
   "source": [
    "n = 1\n",
    "\n",
    "while n < 5:\n",
    "    print (f\"ciclo while {n}\")\n",
    "    for i in range (1, n+1):\n",
    "        print (f\"ciclo for {i}\")\n",
    "    n +=1"
   ]
  },
  {
   "attachments": {},
   "cell_type": "markdown",
   "metadata": {},
   "source": [
    "8) Crear un ciclo while dentro de un ciclo for"
   ]
  },
  {
   "cell_type": "code",
   "execution_count": 5,
   "metadata": {},
   "outputs": [
    {
     "name": "stdout",
     "output_type": "stream",
     "text": [
      "ciclo for: 0\n",
      "ciclo while: 0\n",
      "ciclo while: 1\n",
      "ciclo for: 1\n",
      "ciclo while: 0\n",
      "ciclo while: 1\n",
      "ciclo for: 2\n",
      "ciclo while: 0\n",
      "ciclo while: 1\n"
     ]
    }
   ],
   "source": [
    "n = 3\n",
    "for i in range (n):\n",
    "    contador = 0\n",
    "    limite = 2\n",
    "    print (f\"ciclo for: {i}\")\n",
    "    while contador < limite:\n",
    "        print (f\"ciclo while: {contador}\")\n",
    "        contador +=1"
   ]
  },
  {
   "attachments": {},
   "cell_type": "markdown",
   "metadata": {},
   "source": [
    "9) Imprimir los números primos existentes entre 0 y 30"
   ]
  },
  {
   "attachments": {},
   "cell_type": "markdown",
   "metadata": {},
   "source": [
    "n arranca en 2 porque 0 y 1 no son primos, ya que el 0 es divisible por todos los enteros positivos y el 1 solo es divisible por un entero positivo\n",
    "\n",
    "#div es divisor"
   ]
  },
  {
   "cell_type": "code",
   "execution_count": 9,
   "metadata": {},
   "outputs": [
    {
     "name": "stdout",
     "output_type": "stream",
     "text": [
      "2\n",
      "3\n",
      "5\n",
      "7\n",
      "11\n",
      "13\n",
      "17\n",
      "19\n",
      "23\n",
      "29\n"
     ]
    }
   ],
   "source": [
    "tope = 30 \n",
    "\n",
    "n = 2  \n",
    "\n",
    "primo = True\n",
    "\n",
    "while (n <= tope):\n",
    "    for div in range (2, n): \n",
    "        resto = n % div \n",
    "        if resto == 0:\n",
    "            primo = False\n",
    "    if primo:\n",
    "        print (n)\n",
    "    else: \n",
    "        primo = True\n",
    "    n += 1"
   ]
  },
  {
   "attachments": {},
   "cell_type": "markdown",
   "metadata": {},
   "source": [
    "10) ¿Se puede mejorar el proceso del punto 9? Utilizar las sentencias break y/ó continue para tal fin"
   ]
  },
  {
   "attachments": {},
   "cell_type": "markdown",
   "metadata": {},
   "source": [
    "se coloco el break despues que se descubre que el resto es igual a cero ya que hay cuando lo encuentra por primera vez no es necesario que lo realice por los otros numeros , es decir una vez que encuentra esta premisa por primera vez se pude cortar el for if y enviar a la siguiente iteracion"
   ]
  },
  {
   "cell_type": "code",
   "execution_count": 10,
   "metadata": {},
   "outputs": [
    {
     "name": "stdout",
     "output_type": "stream",
     "text": [
      "2\n",
      "3\n",
      "5\n",
      "7\n",
      "11\n",
      "13\n",
      "17\n",
      "19\n",
      "23\n",
      "29\n"
     ]
    }
   ],
   "source": [
    "tope = 30 \n",
    "\n",
    "n = 2  \n",
    "\n",
    "primo = True\n",
    "\n",
    "while (n <= tope):\n",
    "    for div in range (2, n): \n",
    "        resto = n % div \n",
    "        if resto == 0:\n",
    "            primo = False\n",
    "            break\n",
    "    if primo:\n",
    "        print (n)\n",
    "    else: \n",
    "        primo = True\n",
    "    n += 1"
   ]
  },
  {
   "attachments": {},
   "cell_type": "markdown",
   "metadata": {},
   "source": [
    "11) En los puntos 9 y 10, se diseño un código que encuentra números primos y además se lo optimizó. ¿Es posible saber en qué medida se optimizó?"
   ]
  },
  {
   "attachments": {},
   "cell_type": "markdown",
   "metadata": {},
   "source": [
    "el 10 se optimizo con el break, para demostrarlo vamos a ver cuantos ciclos se hizo en cada uno, sin break son 406 ciclos y con break son solo 135"
   ]
  },
  {
   "cell_type": "code",
   "execution_count": 11,
   "metadata": {},
   "outputs": [
    {
     "name": "stdout",
     "output_type": "stream",
     "text": [
      "2\n",
      "3\n",
      "5\n",
      "7\n",
      "11\n",
      "13\n",
      "17\n",
      "19\n",
      "23\n",
      "29\n",
      "ciclos sin break 406\n"
     ]
    }
   ],
   "source": [
    "tope = 30 \n",
    "\n",
    "n = 2  \n",
    "\n",
    "primo = True\n",
    "\n",
    "ciclos_sin_break = 0\n",
    "\n",
    "while (n <= tope):\n",
    "    for div in range (2, n): \n",
    "        ciclos_sin_break += 1\n",
    "        resto = n % div \n",
    "        if resto == 0:\n",
    "            primo = False\n",
    "    if primo:\n",
    "        print (n)\n",
    "    else: \n",
    "        primo = True\n",
    "    n += 1\n",
    "\n",
    "print (f\"ciclos sin break {ciclos_sin_break}\")"
   ]
  },
  {
   "cell_type": "code",
   "execution_count": 12,
   "metadata": {},
   "outputs": [
    {
     "name": "stdout",
     "output_type": "stream",
     "text": [
      "2\n",
      "3\n",
      "5\n",
      "7\n",
      "11\n",
      "13\n",
      "17\n",
      "19\n",
      "23\n",
      "29\n",
      "ciclos con break 135\n"
     ]
    }
   ],
   "source": [
    "tope = 30 \n",
    "\n",
    "n = 2  \n",
    "\n",
    "primo = True\n",
    "\n",
    "ciclos_con_break = 0\n",
    "\n",
    "while (n <= tope):\n",
    "    for div in range (2, n):\n",
    "        ciclos_con_break += 1\n",
    "        resto = n % div \n",
    "        if resto == 0:\n",
    "            primo = False\n",
    "            break\n",
    "    if primo:\n",
    "        print (n)\n",
    "    else: \n",
    "        primo = True\n",
    "    n += 1\n",
    "\n",
    "print (f\"ciclos con break {ciclos_con_break}\")"
   ]
  },
  {
   "cell_type": "code",
   "execution_count": 13,
   "metadata": {},
   "outputs": [
    {
     "data": {
      "text/plain": [
       "0.33251231527093594"
      ]
     },
     "execution_count": 13,
     "metadata": {},
     "output_type": "execute_result"
    }
   ],
   "source": [
    "ciclos_con_break/ciclos_sin_break\n",
    "\n",
    "#se optimiza el 66,75%\n"
   ]
  },
  {
   "attachments": {},
   "cell_type": "markdown",
   "metadata": {},
   "source": [
    "12) Si la cantidad de números que se evalúa es mayor a treinta, esa optimización crece?"
   ]
  },
  {
   "cell_type": "code",
   "execution_count": null,
   "metadata": {},
   "outputs": [],
   "source": [
    "#si, por ejemplo si para los puntos anteriores decimos que el tope son 100 se optimiza aproximadamente el 75%"
   ]
  },
  {
   "attachments": {},
   "cell_type": "markdown",
   "metadata": {},
   "source": [
    "13) Aplicando continue, armar un ciclo while que solo imprima los valores divisibles por 12, dentro del rango de números de 100 a 300"
   ]
  },
  {
   "cell_type": "code",
   "execution_count": 18,
   "metadata": {},
   "outputs": [
    {
     "name": "stdout",
     "output_type": "stream",
     "text": [
      "el numero 108 es divisible por 12\n",
      "el numero 120 es divisible por 12\n",
      "el numero 132 es divisible por 12\n",
      "el numero 144 es divisible por 12\n",
      "el numero 156 es divisible por 12\n",
      "el numero 168 es divisible por 12\n",
      "el numero 180 es divisible por 12\n",
      "el numero 192 es divisible por 12\n",
      "el numero 204 es divisible por 12\n",
      "el numero 216 es divisible por 12\n",
      "el numero 228 es divisible por 12\n",
      "el numero 240 es divisible por 12\n",
      "el numero 252 es divisible por 12\n",
      "el numero 264 es divisible por 12\n",
      "el numero 276 es divisible por 12\n",
      "el numero 288 es divisible por 12\n",
      "el numero 300 es divisible por 12\n"
     ]
    }
   ],
   "source": [
    "n = 99\n",
    "while n <= 300:\n",
    "    n +=1\n",
    "    resto = (n % 12)\n",
    "    if resto != 0:\n",
    "        continue\n",
    "    print (f\"el numero {n} es divisible por 12\")\n"
   ]
  },
  {
   "attachments": {},
   "cell_type": "markdown",
   "metadata": {},
   "source": [
    "14) Utilizar la función **input()** que permite hacer ingresos por teclado, para encontrar números primos y dar la opción al usario de buscar el siguiente"
   ]
  },
  {
   "cell_type": "code",
   "execution_count": 20,
   "metadata": {},
   "outputs": [
    {
     "name": "stdout",
     "output_type": "stream",
     "text": [
      "El numero 2 es primo\n",
      "Desea encontrar el siguiente numero primo?\n",
      "El numero 3 es primo\n",
      "Desea encontrar el siguiente numero primo?\n",
      "El numero 5 es primo\n",
      "Desea encontrar el siguiente numero primo?\n",
      "El numero 7 es primo\n",
      "Desea encontrar el siguiente numero primo?\n",
      "Se finaliza la busqueda\n"
     ]
    }
   ],
   "source": [
    "n = 2  \n",
    "primo = True\n",
    "buscar_primo = True\n",
    "\n",
    "while buscar_primo:\n",
    "    for div in range (2, n):\n",
    "        resto = n % div \n",
    "        if resto == 0:\n",
    "            primo = False\n",
    "            break\n",
    "    if primo:\n",
    "        print (f\"El numero {n} es primo\")\n",
    "        print (\"Desea encontrar el siguiente numero primo?\")\n",
    "        continuar = input (\"Ingrese si o no: \")\n",
    "        if continuar == \"no\":\n",
    "            print (\"Se finaliza la busqueda\")\n",
    "            buscar_primo = False\n",
    "            break\n",
    "    else: \n",
    "        primo = True\n",
    "    n += 1\n",
    "\n"
   ]
  },
  {
   "attachments": {},
   "cell_type": "markdown",
   "metadata": {},
   "source": [
    "15) Crear un ciclo while que encuentre dentro del rango de 100 a 300 el primer número divisible por 3 y además múltiplo de 6"
   ]
  },
  {
   "cell_type": "code",
   "execution_count": 21,
   "metadata": {},
   "outputs": [
    {
     "name": "stdout",
     "output_type": "stream",
     "text": [
      "El numero es 102\n"
     ]
    }
   ],
   "source": [
    "n = 100\n",
    "while n <= 300:\n",
    "    if (n % 6 == 0):\n",
    "        print (f\"El numero es {n}\")\n",
    "        break\n",
    "    n +=1\n"
   ]
  }
 ],
 "metadata": {
  "interpreter": {
   "hash": "c85384e4cb51c8b72350f3a8712cc8351fdc3955e32a27f9b60c6242ab125f01"
  },
  "kernelspec": {
   "display_name": "Python 3 (ipykernel)",
   "language": "python",
   "name": "python3"
  },
  "language_info": {
   "codemirror_mode": {
    "name": "ipython",
    "version": 3
   },
   "file_extension": ".py",
   "mimetype": "text/x-python",
   "name": "python",
   "nbconvert_exporter": "python",
   "pygments_lexer": "ipython3",
   "version": "3.11.3"
  }
 },
 "nbformat": 4,
 "nbformat_minor": 4
}
