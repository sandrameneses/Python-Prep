{
 "cells": [
  {
   "attachments": {},
   "cell_type": "markdown",
   "metadata": {},
   "source": [
    "## Estructuras de Datos"
   ]
  },
  {
   "attachments": {},
   "cell_type": "markdown",
   "metadata": {},
   "source": [
    "1) Crear una lista que contenga nombres de ciudades del mundo que contenga más de 5 elementos e imprimir por pantalla"
   ]
  },
  {
   "cell_type": "code",
   "execution_count": 34,
   "metadata": {},
   "outputs": [
    {
     "name": "stdout",
     "output_type": "stream",
     "text": [
      "['Bogota', 'Paris', 'New York', 'Venecia', 'Roma', 'Milan', 'Londres']\n"
     ]
    }
   ],
   "source": [
    "ciudades  = [\"Bogota\", \"Paris\", \"New York\", \"Venecia\", \"Roma\", \"Milan\", \"Londres\"]\n",
    "        #      0         1         2           3         4       5         6\n",
    "\n",
    "print (ciudades)"
   ]
  },
  {
   "attachments": {},
   "cell_type": "markdown",
   "metadata": {},
   "source": [
    "2) Imprimir por pantalla el segundo elemento de la lista"
   ]
  },
  {
   "cell_type": "code",
   "execution_count": 23,
   "metadata": {},
   "outputs": [
    {
     "name": "stdout",
     "output_type": "stream",
     "text": [
      "Paris\n"
     ]
    }
   ],
   "source": [
    "print (ciudades [1])"
   ]
  },
  {
   "attachments": {},
   "cell_type": "markdown",
   "metadata": {},
   "source": [
    "3) Imprimir por pantalla del segundo al cuarto elemento"
   ]
  },
  {
   "cell_type": "code",
   "execution_count": 24,
   "metadata": {},
   "outputs": [
    {
     "name": "stdout",
     "output_type": "stream",
     "text": [
      "['Paris', 'New York', 'Venecia']\n"
     ]
    }
   ],
   "source": [
    "print (ciudades [1:4]) \n",
    "# se pone hasta el 4 porque ese no lo imprime"
   ]
  },
  {
   "attachments": {},
   "cell_type": "markdown",
   "metadata": {},
   "source": [
    "4) Visualizar el tipo de dato de la lista"
   ]
  },
  {
   "cell_type": "code",
   "execution_count": 25,
   "metadata": {},
   "outputs": [
    {
     "data": {
      "text/plain": [
       "list"
      ]
     },
     "execution_count": 25,
     "metadata": {},
     "output_type": "execute_result"
    }
   ],
   "source": [
    "type (ciudades)\n"
   ]
  },
  {
   "cell_type": "code",
   "execution_count": 26,
   "metadata": {},
   "outputs": [
    {
     "name": "stdout",
     "output_type": "stream",
     "text": [
      "<class 'list'>\n"
     ]
    }
   ],
   "source": [
    "print (type (ciudades))"
   ]
  },
  {
   "attachments": {},
   "cell_type": "markdown",
   "metadata": {},
   "source": [
    "5) Visualizar todos los elementos de la lista a partir del tercero de manera genérica, es decir, sin explicitar la posición del último elemento"
   ]
  },
  {
   "cell_type": "code",
   "execution_count": 27,
   "metadata": {},
   "outputs": [
    {
     "name": "stdout",
     "output_type": "stream",
     "text": [
      "['New York', 'Venecia', 'Roma', 'Milan', 'Londres']\n"
     ]
    }
   ],
   "source": [
    "print (ciudades [2: ])"
   ]
  },
  {
   "attachments": {},
   "cell_type": "markdown",
   "metadata": {},
   "source": [
    "6) Visualizar los primeros 4 elementos de la lista"
   ]
  },
  {
   "cell_type": "code",
   "execution_count": 28,
   "metadata": {},
   "outputs": [
    {
     "name": "stdout",
     "output_type": "stream",
     "text": [
      "['Bogota', 'Paris', 'New York', 'Venecia']\n"
     ]
    }
   ],
   "source": [
    "print (ciudades [:4])"
   ]
  },
  {
   "attachments": {},
   "cell_type": "markdown",
   "metadata": {},
   "source": [
    "7) Agregar una ciudad más a la lista que ya exista y otra que no ¿Arroja algún tipo de error?"
   ]
  },
  {
   "cell_type": "code",
   "execution_count": 36,
   "metadata": {},
   "outputs": [
    {
     "name": "stdout",
     "output_type": "stream",
     "text": [
      "['Bogota', 'Paris', 'New York', 'Venecia', 'Roma', 'Milan', 'Londres', 'New York', 'New York', 'Toronto']\n"
     ]
    }
   ],
   "source": [
    "ciudades.append (\"New York\")\n",
    "ciudades.append (\"Toronto\")\n",
    "print (ciudades)\n",
    "\n",
    "# tambien se podria hacer con extend"
   ]
  },
  {
   "attachments": {},
   "cell_type": "markdown",
   "metadata": {},
   "source": [
    "8) Agregar otra ciudad, pero en la cuarta posición"
   ]
  },
  {
   "cell_type": "code",
   "execution_count": 37,
   "metadata": {},
   "outputs": [
    {
     "name": "stdout",
     "output_type": "stream",
     "text": [
      "['Bogota', 'Paris', 'New York', 'Munich', 'Venecia', 'Roma', 'Milan', 'Londres', 'New York', 'New York', 'Toronto']\n"
     ]
    }
   ],
   "source": [
    "ciudades.insert (3, \"Munich\") # (indice, \"elemento\")\n",
    "print (ciudades)"
   ]
  },
  {
   "attachments": {},
   "cell_type": "markdown",
   "metadata": {},
   "source": [
    "9) Concatenar otra lista a la ya creada"
   ]
  },
  {
   "cell_type": "code",
   "execution_count": 41,
   "metadata": {},
   "outputs": [
    {
     "name": "stdout",
     "output_type": "stream",
     "text": [
      "['Miami', 'Lisboa', 'Buenos Aires']\n"
     ]
    }
   ],
   "source": [
    "ciudades2  = [\"Miami\", \"Lisboa\", \"Buenos Aires\"]\n",
    "print (ciudades2)"
   ]
  },
  {
   "cell_type": "code",
   "execution_count": 42,
   "metadata": {},
   "outputs": [
    {
     "name": "stdout",
     "output_type": "stream",
     "text": [
      "['Bogota', 'Paris', 'New York', 'Munich', 'Venecia', 'Roma', 'Milan', 'Londres', 'New York', 'New York', 'Toronto', 'Miami', 'Lisboa', 'Buenos Aires']\n"
     ]
    }
   ],
   "source": [
    "ciudades.extend (ciudades2)  # aca en la lista original se suma la segunda lista\n",
    "print (ciudades)"
   ]
  },
  {
   "cell_type": "code",
   "execution_count": 44,
   "metadata": {},
   "outputs": [
    {
     "name": "stdout",
     "output_type": "stream",
     "text": [
      "[1, 2, 3, 'a', 'b', 'c']\n"
     ]
    }
   ],
   "source": [
    "# otra forma es sumando, ejemplo (aca se crea una nueva lista)\n",
    "\n",
    "lis1 = [1, 2, 3]\n",
    "lis2 = [\"a\", \"b\", \"c\"]\n",
    "sumalis = lis1 + lis2\n",
    "print (sumalis)\n"
   ]
  },
  {
   "attachments": {},
   "cell_type": "markdown",
   "metadata": {},
   "source": [
    "10) Encontrar el índice de la ciudad que en el punto 7 agregamos duplicada. ¿Se nota alguna particularidad?"
   ]
  },
  {
   "cell_type": "code",
   "execution_count": 45,
   "metadata": {},
   "outputs": [
    {
     "data": {
      "text/plain": [
       "2"
      ]
     },
     "execution_count": 45,
     "metadata": {},
     "output_type": "execute_result"
    }
   ],
   "source": [
    "ciudades.index (\"New York\")  # muestra el primero"
   ]
  },
  {
   "cell_type": "code",
   "execution_count": 46,
   "metadata": {},
   "outputs": [
    {
     "data": {
      "text/plain": [
       "3"
      ]
     },
     "execution_count": 46,
     "metadata": {},
     "output_type": "execute_result"
    }
   ],
   "source": [
    "ciudades.count (\"New York\") # nos dice cuantas veces aparece el elemento en la lista"
   ]
  },
  {
   "cell_type": "code",
   "execution_count": 47,
   "metadata": {},
   "outputs": [
    {
     "name": "stdout",
     "output_type": "stream",
     "text": [
      "0 Bogota\n",
      "1 Paris\n",
      "2 New York\n",
      "3 Munich\n",
      "4 Venecia\n",
      "5 Roma\n",
      "6 Milan\n",
      "7 Londres\n",
      "8 New York\n",
      "9 New York\n",
      "10 Toronto\n",
      "11 Miami\n",
      "12 Lisboa\n",
      "13 Buenos Aires\n"
     ]
    }
   ],
   "source": [
    "# para saber en que indice esta se hace un loop con enumerate asi:\n",
    "\n",
    "for i,ciudad in enumerate (ciudades):\n",
    "    print (i,ciudad)"
   ]
  },
  {
   "cell_type": "code",
   "execution_count": 50,
   "metadata": {},
   "outputs": [
    {
     "name": "stdout",
     "output_type": "stream",
     "text": [
      "2 New York\n",
      "8 New York\n",
      "9 New York\n"
     ]
    }
   ],
   "source": [
    "# si quiero saber solo para New York se hace asi:\n",
    "\n",
    "for i,ciudad in enumerate (ciudades):\n",
    "    if ciudad == \"New York\":\n",
    "        print (i,ciudad)"
   ]
  },
  {
   "attachments": {},
   "cell_type": "markdown",
   "metadata": {},
   "source": [
    "11) ¿Qué pasa si se busca un elemento que no existe?"
   ]
  },
  {
   "cell_type": "code",
   "execution_count": 51,
   "metadata": {},
   "outputs": [
    {
     "ename": "ValueError",
     "evalue": "'Bagdad' is not in list",
     "output_type": "error",
     "traceback": [
      "\u001b[1;31m---------------------------------------------------------------------------\u001b[0m",
      "\u001b[1;31mValueError\u001b[0m                                Traceback (most recent call last)",
      "Cell \u001b[1;32mIn[51], line 1\u001b[0m\n\u001b[1;32m----> 1\u001b[0m ciudades\u001b[39m.\u001b[39;49mindex (\u001b[39m\"\u001b[39;49m\u001b[39mBagdad\u001b[39;49m\u001b[39m\"\u001b[39;49m)\n",
      "\u001b[1;31mValueError\u001b[0m: 'Bagdad' is not in list"
     ]
    }
   ],
   "source": [
    "ciudades.index (\"Bagdad\")"
   ]
  },
  {
   "attachments": {},
   "cell_type": "markdown",
   "metadata": {},
   "source": [
    "El Error que dice es: 'Bagdad' is not in list"
   ]
  },
  {
   "cell_type": "code",
   "execution_count": 52,
   "metadata": {},
   "outputs": [
    {
     "name": "stdout",
     "output_type": "stream",
     "text": [
      "la ciudad no esta en la lista ciudades\n",
      "la ciudad no esta en la lista ciudades\n",
      "la ciudad no esta en la lista ciudades\n",
      "la ciudad no esta en la lista ciudades\n",
      "la ciudad no esta en la lista ciudades\n",
      "la ciudad no esta en la lista ciudades\n",
      "la ciudad no esta en la lista ciudades\n",
      "la ciudad no esta en la lista ciudades\n",
      "la ciudad no esta en la lista ciudades\n",
      "la ciudad no esta en la lista ciudades\n",
      "la ciudad no esta en la lista ciudades\n",
      "la ciudad no esta en la lista ciudades\n",
      "la ciudad no esta en la lista ciudades\n",
      "la ciudad no esta en la lista ciudades\n"
     ]
    }
   ],
   "source": [
    "# otra forma por cad elemento de la lista me dice que no esta\n",
    "\n",
    "for i,ciudad in enumerate (ciudades):\n",
    "    if ciudad == \"Bagdad\":\n",
    "        print (i,ciudad)\n",
    "    else:\n",
    "        print (\"la ciudad no esta en la lista ciudades\")"
   ]
  },
  {
   "attachments": {},
   "cell_type": "markdown",
   "metadata": {},
   "source": [
    "12) Eliminar un elemento de la lista"
   ]
  },
  {
   "cell_type": "code",
   "execution_count": 53,
   "metadata": {},
   "outputs": [
    {
     "name": "stdout",
     "output_type": "stream",
     "text": [
      "['Bogota', 'Paris', 'New York', 'Munich', 'Venecia', 'Roma', 'Milan', 'Londres', 'New York', 'New York', 'Toronto', 'Miami', 'Lisboa', 'Buenos Aires']\n"
     ]
    }
   ],
   "source": [
    "print (ciudades)"
   ]
  },
  {
   "cell_type": "code",
   "execution_count": 55,
   "metadata": {},
   "outputs": [
    {
     "name": "stdout",
     "output_type": "stream",
     "text": [
      "['Paris', 'New York', 'Munich', 'Venecia', 'Roma', 'Milan', 'Londres', 'New York', 'New York', 'Toronto', 'Miami', 'Lisboa', 'Buenos Aires']\n"
     ]
    }
   ],
   "source": [
    "ciudades.remove (\"Bogota\")\n",
    "print (ciudades)"
   ]
  },
  {
   "cell_type": "code",
   "execution_count": 56,
   "metadata": {},
   "outputs": [
    {
     "data": {
      "text/plain": [
       "'Buenos Aires'"
      ]
     },
     "execution_count": 56,
     "metadata": {},
     "output_type": "execute_result"
    }
   ],
   "source": [
    "ciudades.pop ()  # me elimina el ultimo elemento de la lista si no le pongo indice en el parentesis asi:"
   ]
  },
  {
   "cell_type": "code",
   "execution_count": 65,
   "metadata": {},
   "outputs": [
    {
     "name": "stdout",
     "output_type": "stream",
     "text": [
      "['Paris', 'New York', 'Munich', 'Venecia', 'Roma', 'Milan', 'Londres', 'New York', 'New York', 'Toronto', 'Miami', 'Lisboa']\n"
     ]
    }
   ],
   "source": [
    "ciudades = ['Paris', 'New York', 'Munich', 'Venecia', 'Roma', 'Milan', 'Londres', 'New York', 'New York', 'Toronto', 'Miami', 'Lisboa']\n",
    "print (ciudades)"
   ]
  },
  {
   "cell_type": "code",
   "execution_count": 66,
   "metadata": {},
   "outputs": [
    {
     "name": "stdout",
     "output_type": "stream",
     "text": [
      "['Paris', 'Munich', 'Venecia', 'Roma', 'Milan', 'Londres', 'New York', 'New York', 'Toronto', 'Miami', 'Lisboa']\n"
     ]
    }
   ],
   "source": [
    "ciudades.pop (1) # me elimina New York que esta en el indice 1\n",
    "print (ciudades)"
   ]
  },
  {
   "cell_type": "code",
   "execution_count": 67,
   "metadata": {},
   "outputs": [
    {
     "name": "stdout",
     "output_type": "stream",
     "text": [
      "['Paris', 'Munich', 'Venecia', 'Roma', 'Milan', 'Londres', 'New York', 'Toronto', 'Miami', 'Lisboa']\n"
     ]
    }
   ],
   "source": [
    "del ciudades [7] # me elimina New York que esta en el indice 7\n",
    "print (ciudades)"
   ]
  },
  {
   "cell_type": "code",
   "execution_count": 68,
   "metadata": {},
   "outputs": [
    {
     "name": "stdout",
     "output_type": "stream",
     "text": [
      "['Paris', 'Munich', 'Milan', 'Londres', 'New York', 'Toronto', 'Miami', 'Lisboa']\n"
     ]
    }
   ],
   "source": [
    "del ciudades [2:4] # me elimina indice 2 y 3 = Venecia y Roma\n",
    "print (ciudades)"
   ]
  },
  {
   "attachments": {},
   "cell_type": "markdown",
   "metadata": {},
   "source": [
    "13) ¿Qué pasa si el elemento a eliminar no existe?"
   ]
  },
  {
   "cell_type": "code",
   "execution_count": 69,
   "metadata": {},
   "outputs": [
    {
     "ename": "ValueError",
     "evalue": "list.remove(x): x not in list",
     "output_type": "error",
     "traceback": [
      "\u001b[1;31m---------------------------------------------------------------------------\u001b[0m",
      "\u001b[1;31mValueError\u001b[0m                                Traceback (most recent call last)",
      "Cell \u001b[1;32mIn[69], line 1\u001b[0m\n\u001b[1;32m----> 1\u001b[0m ciudades\u001b[39m.\u001b[39;49mremove (\u001b[39m\"\u001b[39;49m\u001b[39mBogota\u001b[39;49m\u001b[39m\"\u001b[39;49m)\n\u001b[0;32m      2\u001b[0m \u001b[39mprint\u001b[39m (ciudades)\n",
      "\u001b[1;31mValueError\u001b[0m: list.remove(x): x not in list"
     ]
    }
   ],
   "source": [
    "ciudades.remove (\"Bogota\")\n",
    "print (ciudades)\n",
    "\n",
    "# me vota error y dice que el elemento no esta en la lista"
   ]
  },
  {
   "attachments": {},
   "cell_type": "markdown",
   "metadata": {},
   "source": [
    "14) Extraer el úlimo elemento de la lista, guardarlo en una variable e imprimirlo"
   ]
  },
  {
   "cell_type": "code",
   "execution_count": 70,
   "metadata": {},
   "outputs": [
    {
     "name": "stdout",
     "output_type": "stream",
     "text": [
      "Lisboa\n"
     ]
    }
   ],
   "source": [
    "ultima_ciudad = ciudades.pop ()\n",
    "print (ultima_ciudad)"
   ]
  },
  {
   "attachments": {},
   "cell_type": "markdown",
   "metadata": {},
   "source": [
    "15) Mostrar la lista multiplicada por 4"
   ]
  },
  {
   "cell_type": "code",
   "execution_count": 71,
   "metadata": {},
   "outputs": [
    {
     "data": {
      "text/plain": [
       "['Paris', 'Munich', 'Milan', 'Londres', 'New York', 'Toronto', 'Miami']"
      ]
     },
     "execution_count": 71,
     "metadata": {},
     "output_type": "execute_result"
    }
   ],
   "source": [
    "ciudades"
   ]
  },
  {
   "cell_type": "code",
   "execution_count": 74,
   "metadata": {},
   "outputs": [
    {
     "name": "stdout",
     "output_type": "stream",
     "text": [
      "['Paris', 'Munich', 'Milan', 'Londres', 'New York', 'Toronto', 'Miami', 'Paris', 'Munich', 'Milan', 'Londres', 'New York', 'Toronto', 'Miami', 'Paris', 'Munich', 'Milan', 'Londres', 'New York', 'Toronto', 'Miami', 'Paris', 'Munich', 'Milan', 'Londres', 'New York', 'Toronto', 'Miami']\n"
     ]
    }
   ],
   "source": [
    "print (ciudades * 4) # me repite la lista 4 veces, pero como no se metio en variable la lista sigue igual, mira el segundo code print"
   ]
  },
  {
   "cell_type": "code",
   "execution_count": 75,
   "metadata": {},
   "outputs": [
    {
     "data": {
      "text/plain": [
       "['Paris', 'Munich', 'Milan', 'Londres', 'New York', 'Toronto', 'Miami']"
      ]
     },
     "execution_count": 75,
     "metadata": {},
     "output_type": "execute_result"
    }
   ],
   "source": [
    "ciudades"
   ]
  },
  {
   "attachments": {},
   "cell_type": "markdown",
   "metadata": {},
   "source": [
    "16) Crear una tupla que contenga los números enteros del 1 al 20"
   ]
  },
  {
   "cell_type": "code",
   "execution_count": 77,
   "metadata": {},
   "outputs": [
    {
     "name": "stdout",
     "output_type": "stream",
     "text": [
      "(1, 2, 3, 4, 5, 6, 7, 8, 9, 10, 11, 12, 13, 14, 15, 16, 17, 18, 19, 20)\n",
      "<class 'tuple'>\n"
     ]
    }
   ],
   "source": [
    "tup = (1,2,3,4,5,6,7,8,9,10,11,12,13,14,15,16,17,18,19,20)\n",
    "print (tup)\n",
    "print (type (tup))"
   ]
  },
  {
   "cell_type": "code",
   "execution_count": 78,
   "metadata": {},
   "outputs": [
    {
     "name": "stdout",
     "output_type": "stream",
     "text": [
      "(1, 2, 3, 4, 5, 6, 7, 8, 9, 10, 11, 12, 13, 14, 15, 16, 17, 18, 19, 20)\n",
      "<class 'tuple'>\n"
     ]
    }
   ],
   "source": [
    "# para no escribir todos los numeros uno a uno hacemos un loop asi\n",
    "\n",
    "lista = []               # creamos la lista y la cambiamos a tupla \n",
    "\n",
    "for i in range (1,21):\n",
    "    lista.append (i)\n",
    "tup2 = tuple (lista)\n",
    "print (tup2)\n",
    "print (type (tup2))\n"
   ]
  },
  {
   "cell_type": "code",
   "execution_count": 79,
   "metadata": {},
   "outputs": [
    {
     "name": "stdout",
     "output_type": "stream",
     "text": [
      "(1, 2, 3, 4, 5, 6, 7, 8, 9, 10, 11, 12, 13, 14, 15, 16, 17, 18, 19, 20)\n",
      "<class 'tuple'>\n"
     ]
    }
   ],
   "source": [
    "enteros = tuple (range (1,21))  # otra forma directamente \n",
    "\n",
    "print (enteros)\n",
    "print (type (enteros))"
   ]
  },
  {
   "attachments": {},
   "cell_type": "markdown",
   "metadata": {},
   "source": [
    "17) Imprimir desde el índice 10 al 15 de la tupla"
   ]
  },
  {
   "cell_type": "code",
   "execution_count": 82,
   "metadata": {},
   "outputs": [
    {
     "name": "stdout",
     "output_type": "stream",
     "text": [
      "(11, 12, 13, 14, 15, 16)\n"
     ]
    }
   ],
   "source": [
    "print (tup [10:16]) # los indices son iguales, el ultimo no lo imprime aca el indice 15 = numero 16"
   ]
  },
  {
   "attachments": {},
   "cell_type": "markdown",
   "metadata": {},
   "source": [
    "18) Evaluar si los números 20 y 30 están dentro de la tupla"
   ]
  },
  {
   "cell_type": "code",
   "execution_count": 83,
   "metadata": {},
   "outputs": [
    {
     "name": "stdout",
     "output_type": "stream",
     "text": [
      "True\n",
      "False\n"
     ]
    }
   ],
   "source": [
    "print (20 in tup)\n",
    "print (30 in tup)"
   ]
  },
  {
   "attachments": {},
   "cell_type": "markdown",
   "metadata": {},
   "source": [
    "19) Con la lista creada en el punto 1, validar la existencia del elemento 'Caracas' y si no existe, agregarlo. Utilizar una variable e informar lo sucedido."
   ]
  },
  {
   "cell_type": "code",
   "execution_count": 85,
   "metadata": {},
   "outputs": [
    {
     "data": {
      "text/plain": [
       "False"
      ]
     },
     "execution_count": 85,
     "metadata": {},
     "output_type": "execute_result"
    }
   ],
   "source": [
    "\"Caracas\" in ciudades\n"
   ]
  },
  {
   "cell_type": "code",
   "execution_count": 86,
   "metadata": {},
   "outputs": [
    {
     "name": "stdout",
     "output_type": "stream",
     "text": [
      "la ciudad Caracas fue agregada a la lista\n"
     ]
    }
   ],
   "source": [
    "elemento = \"Caracas\"\n",
    "\n",
    "if ciudad in ciudades:\n",
    "    print (f\"la ciudad {elemento} no esta en la lista\")\n",
    "else:\n",
    "    ciudades.append (elemento)\n",
    "    print (f\"la ciudad {elemento} fue agregada a la lista\")"
   ]
  },
  {
   "attachments": {},
   "cell_type": "markdown",
   "metadata": {},
   "source": [
    "20) Mostrar la cantidad de veces que se encuentra un elemento específico dentro de la tupla y de la lista"
   ]
  },
  {
   "cell_type": "code",
   "execution_count": 88,
   "metadata": {},
   "outputs": [
    {
     "name": "stdout",
     "output_type": "stream",
     "text": [
      "(1, 2, 3, 4, 5, 6, 7, 8, 9, 10, 11, 12, 13, 14, 15, 16, 17, 18, 19, 20)\n"
     ]
    }
   ],
   "source": [
    "print (tup)"
   ]
  },
  {
   "cell_type": "code",
   "execution_count": 89,
   "metadata": {},
   "outputs": [
    {
     "name": "stdout",
     "output_type": "stream",
     "text": [
      "1\n"
     ]
    }
   ],
   "source": [
    "print (tup.count (10)) # me dice que el 10 esta una vez en la tupla y Paris una vez en la lista"
   ]
  },
  {
   "cell_type": "code",
   "execution_count": 87,
   "metadata": {},
   "outputs": [
    {
     "name": "stdout",
     "output_type": "stream",
     "text": [
      "['Paris', 'Munich', 'Milan', 'Londres', 'New York', 'Toronto', 'Miami', 'Caracas']\n"
     ]
    }
   ],
   "source": [
    "print (ciudades)"
   ]
  },
  {
   "cell_type": "code",
   "execution_count": 91,
   "metadata": {},
   "outputs": [
    {
     "name": "stdout",
     "output_type": "stream",
     "text": [
      "1\n"
     ]
    }
   ],
   "source": [
    "print (ciudades.count (\"Paris\"))"
   ]
  },
  {
   "attachments": {},
   "cell_type": "markdown",
   "metadata": {},
   "source": [
    "21) Convertir la tupla en una lista"
   ]
  },
  {
   "cell_type": "code",
   "execution_count": 93,
   "metadata": {},
   "outputs": [],
   "source": [
    "lista2 = list(tup)"
   ]
  },
  {
   "cell_type": "code",
   "execution_count": 95,
   "metadata": {},
   "outputs": [
    {
     "name": "stdout",
     "output_type": "stream",
     "text": [
      "[1, 2, 3, 4, 5, 6, 7, 8, 9, 10, 11, 12, 13, 14, 15, 16, 17, 18, 19, 20]\n"
     ]
    }
   ],
   "source": [
    "print (lista2)"
   ]
  },
  {
   "attachments": {},
   "cell_type": "markdown",
   "metadata": {},
   "source": [
    "22) Desempaquetar solo los primeros 3 elementos de la tupla en 3 variables"
   ]
  },
  {
   "cell_type": "code",
   "execution_count": 96,
   "metadata": {},
   "outputs": [
    {
     "data": {
      "text/plain": [
       "(1, 2, 3, 4, 5, 6, 7, 8, 9, 10, 11, 12, 13, 14, 15, 16, 17, 18, 19, 20)"
      ]
     },
     "execution_count": 96,
     "metadata": {},
     "output_type": "execute_result"
    }
   ],
   "source": [
    "tup"
   ]
  },
  {
   "cell_type": "code",
   "execution_count": 97,
   "metadata": {},
   "outputs": [
    {
     "name": "stdout",
     "output_type": "stream",
     "text": [
      "1\n",
      "2\n",
      "3\n"
     ]
    }
   ],
   "source": [
    "v1,v2,v3,_, _, _, _, _, _, _, _, _, _, _, _, _, _, _, _, _ =tup\n",
    "\n",
    "# se desempaqueta asi, solo se da variable a las 3 primeras que es lo que se pide\n",
    "\n",
    "print (v1)\n",
    "print (v2)\n",
    "print (v3)"
   ]
  },
  {
   "cell_type": "code",
   "execution_count": 100,
   "metadata": {},
   "outputs": [
    {
     "name": "stdout",
     "output_type": "stream",
     "text": [
      "1\n",
      "2\n",
      "3\n"
     ]
    }
   ],
   "source": [
    "# otra forma\n",
    "\n",
    "v1,v2,v3 = tup [0:3]\n",
    "print (v1)\n",
    "print (v2)\n",
    "print (v3)"
   ]
  },
  {
   "attachments": {},
   "cell_type": "markdown",
   "metadata": {},
   "source": [
    "23) Crear un diccionario utilizando la lista crada en el punto 1, asignandole la clave \"ciudad\". Agregar tambien otras claves, como puede ser \"Pais\" y \"Continente\"."
   ]
  },
  {
   "cell_type": "code",
   "execution_count": 101,
   "metadata": {},
   "outputs": [
    {
     "name": "stdout",
     "output_type": "stream",
     "text": [
      "['Paris', 'Munich', 'Milan', 'Londres', 'New York', 'Toronto', 'Miami', 'Caracas']\n"
     ]
    }
   ],
   "source": [
    "print (ciudades)"
   ]
  },
  {
   "cell_type": "code",
   "execution_count": 105,
   "metadata": {},
   "outputs": [],
   "source": [
    "paises = ['Francia', 'Alemania', 'Italia', 'Inglaterra', 'USA', 'Canada', 'USA', 'Venezuela']\n",
    "\n",
    "continentes = ['Europa', 'Europa', 'Europa', 'Europa', 'America', 'America', 'America', 'America']\n",
    "\n"
   ]
  },
  {
   "cell_type": "code",
   "execution_count": 107,
   "metadata": {},
   "outputs": [],
   "source": [
    "dicc = { \"ciudad\": ciudades,\n",
    "        \"pais\": paises,\n",
    "         \"continente\" : continentes }"
   ]
  },
  {
   "cell_type": "code",
   "execution_count": 108,
   "metadata": {},
   "outputs": [
    {
     "name": "stdout",
     "output_type": "stream",
     "text": [
      "{'ciudad': ['Paris', 'Munich', 'Milan', 'Londres', 'New York', 'Toronto', 'Miami', 'Caracas'], 'pais': ['Francia', 'Alemania', 'Italia', 'Inglaterra', 'USA', 'Canada', 'USA', 'Venezuela'], 'continente': ['Europa', 'Europa', 'Europa', 'Europa', 'America', 'America', 'America', 'America']}\n"
     ]
    }
   ],
   "source": [
    "print (dicc)"
   ]
  },
  {
   "attachments": {},
   "cell_type": "markdown",
   "metadata": {},
   "source": [
    "24) Imprimir las claves del diccionario"
   ]
  },
  {
   "cell_type": "code",
   "execution_count": 109,
   "metadata": {},
   "outputs": [
    {
     "data": {
      "text/plain": [
       "dict_keys(['ciudad', 'pais', 'continente'])"
      ]
     },
     "execution_count": 109,
     "metadata": {},
     "output_type": "execute_result"
    }
   ],
   "source": [
    "dicc.keys ( )"
   ]
  },
  {
   "cell_type": "code",
   "execution_count": 110,
   "metadata": {},
   "outputs": [
    {
     "data": {
      "text/plain": [
       "dict_values([['Paris', 'Munich', 'Milan', 'Londres', 'New York', 'Toronto', 'Miami', 'Caracas'], ['Francia', 'Alemania', 'Italia', 'Inglaterra', 'USA', 'Canada', 'USA', 'Venezuela'], ['Europa', 'Europa', 'Europa', 'Europa', 'America', 'America', 'America', 'America']])"
      ]
     },
     "execution_count": 110,
     "metadata": {},
     "output_type": "execute_result"
    }
   ],
   "source": [
    "dicc.values ( )"
   ]
  },
  {
   "attachments": {},
   "cell_type": "markdown",
   "metadata": {},
   "source": [
    "25) Imprimir las ciudades a través de su clave"
   ]
  },
  {
   "cell_type": "code",
   "execution_count": 112,
   "metadata": {},
   "outputs": [
    {
     "name": "stdout",
     "output_type": "stream",
     "text": [
      "['Paris', 'Munich', 'Milan', 'Londres', 'New York', 'Toronto', 'Miami', 'Caracas']\n"
     ]
    }
   ],
   "source": [
    "print (dicc[\"ciudad\"])"
   ]
  }
 ],
 "metadata": {
  "interpreter": {
   "hash": "c85384e4cb51c8b72350f3a8712cc8351fdc3955e32a27f9b60c6242ab125f01"
  },
  "kernelspec": {
   "display_name": "Python 3 (ipykernel)",
   "language": "python",
   "name": "python3"
  },
  "language_info": {
   "codemirror_mode": {
    "name": "ipython",
    "version": 3
   },
   "file_extension": ".py",
   "mimetype": "text/x-python",
   "name": "python",
   "nbconvert_exporter": "python",
   "pygments_lexer": "ipython3",
   "version": "3.11.3"
  }
 },
 "nbformat": 4,
 "nbformat_minor": 4
}
